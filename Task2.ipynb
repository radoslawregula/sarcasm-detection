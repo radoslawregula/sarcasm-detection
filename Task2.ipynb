{
 "cells": [
  {
   "cell_type": "markdown",
   "metadata": {},
   "source": [
    "# Introduction\n",
    "\n",
    "This notebook implements a solution to the classification problem involving sarcastic and non-sarcastic news headlines. Provided data consists of 26 709 string-like headlines of variable lengths, each marked with a binary label (0 for genuine, 1 for sarcastic).\n",
    "\n",
    "Solving the problem began with a research stage, conducted in order to recognize the current state of knowledge on the subject. Preliminary reading confirmed that the elements of deep learning had to be incorporated as traditional machine learning was investigated to perform rather poorly in such complex NLP tasks. If computation time and simplicity of the model were important factors in the assignment, these methods could be verified nonetheless. Support vector machines could be a good starting point, as they are mentioned in a few of the early publications on the subject of sentence classification.\n",
    "\n",
    "For the described solution, the method chosen after the research was convolutional neural network (CNN). During the completion of the project, three scientific papers were mainly consulted as a description of a state-of-the-art method for the problem of that type. These papers were:\n",
    "\n",
    "Mehendiratta P., Devpriya S., Identification of Sarcasm in Textual Data: A Comparative Study (2019), available [here](https://www.researchgate.net/publication/338223940_Identification_of_Sarcasm_in_Textual_Data_A_Comparative_Study_Identification_of_Sarcasm_in_Textual_Data_A_Comparative_Study)\\\n",
    "Zhang Y., Wallace B. C., A Sensitivity Analysis of (and Practitioner's Guide to) Convolutional Neural Networks for Sentence Classification (2016), available [here](https://arxiv.org/abs/1510.03820)\\\n",
    "Kim Y., Convolutional Neural Networks for Sentence Classification (2014), available [here](https://www.aclweb.org/anthology/D14-1181/)\n",
    "\n",
    "Core functionalities of the project were implemented using Keras. The code was written using [this](https://gist.github.com/entron/b9bc61a74e7cadeb1fec), [this](https://www.kaggle.com/danielsafai/cnn-implementation-of-yoon-kim-s-model) and [this](https://www.kaggle.com/hamishdickson/cnn-for-sentence-classification-by-yoon-kim/data) online repositories as references."
   ]
  },
  {
   "cell_type": "code",
   "execution_count": 2,
   "metadata": {},
   "outputs": [],
   "source": [
    "import pandas as pd\n",
    "import numpy as np\n",
    "import os"
   ]
  },
  {
   "cell_type": "code",
   "execution_count": 3,
   "metadata": {},
   "outputs": [
    {
     "data": {
      "text/html": [
       "<div>\n",
       "<style scoped>\n",
       "    .dataframe tbody tr th:only-of-type {\n",
       "        vertical-align: middle;\n",
       "    }\n",
       "\n",
       "    .dataframe tbody tr th {\n",
       "        vertical-align: top;\n",
       "    }\n",
       "\n",
       "    .dataframe thead th {\n",
       "        text-align: right;\n",
       "    }\n",
       "</style>\n",
       "<table border=\"1\" class=\"dataframe\">\n",
       "  <thead>\n",
       "    <tr style=\"text-align: right;\">\n",
       "      <th></th>\n",
       "      <th>headline</th>\n",
       "      <th>is_sarcastic</th>\n",
       "    </tr>\n",
       "  </thead>\n",
       "  <tbody>\n",
       "    <tr>\n",
       "      <th>0</th>\n",
       "      <td>former versace store clerk sues over secret 'b...</td>\n",
       "      <td>0</td>\n",
       "    </tr>\n",
       "    <tr>\n",
       "      <th>1</th>\n",
       "      <td>the 'roseanne' revival catches up to our thorn...</td>\n",
       "      <td>0</td>\n",
       "    </tr>\n",
       "    <tr>\n",
       "      <th>2</th>\n",
       "      <td>mom starting to fear son's web series closest ...</td>\n",
       "      <td>1</td>\n",
       "    </tr>\n",
       "    <tr>\n",
       "      <th>3</th>\n",
       "      <td>boehner just wants wife to listen, not come up...</td>\n",
       "      <td>1</td>\n",
       "    </tr>\n",
       "    <tr>\n",
       "      <th>4</th>\n",
       "      <td>j.k. rowling wishes snape happy birthday in th...</td>\n",
       "      <td>0</td>\n",
       "    </tr>\n",
       "  </tbody>\n",
       "</table>\n",
       "</div>"
      ],
      "text/plain": [
       "                                            headline  is_sarcastic\n",
       "0  former versace store clerk sues over secret 'b...             0\n",
       "1  the 'roseanne' revival catches up to our thorn...             0\n",
       "2  mom starting to fear son's web series closest ...             1\n",
       "3  boehner just wants wife to listen, not come up...             1\n",
       "4  j.k. rowling wishes snape happy birthday in th...             0"
      ]
     },
     "execution_count": 3,
     "metadata": {},
     "output_type": "execute_result"
    }
   ],
   "source": [
    "current_dir = os.path.dirname(os.path.abspath('__file__'))\n",
    "path_to_file = os.path.join(current_dir, 'Graduate - HEADLINES dataset (2019-06).json')\n",
    "input_data = pd.read_json(path_to_file, orient = 'records', lines = True)\n",
    "input_data.head()"
   ]
  },
  {
   "cell_type": "code",
   "execution_count": 4,
   "metadata": {},
   "outputs": [
    {
     "name": "stdout",
     "output_type": "stream",
     "text": [
      "<class 'pandas.core.frame.DataFrame'>\n",
      "RangeIndex: 26709 entries, 0 to 26708\n",
      "Data columns (total 2 columns):\n",
      "headline        26709 non-null object\n",
      "is_sarcastic    26709 non-null int64\n",
      "dtypes: int64(1), object(1)\n",
      "memory usage: 417.5+ KB\n"
     ]
    }
   ],
   "source": [
    "input_data.info()"
   ]
  },
  {
   "cell_type": "code",
   "execution_count": 5,
   "metadata": {},
   "outputs": [
    {
     "data": {
      "text/plain": [
       "0    14985\n",
       "1    11724\n",
       "Name: is_sarcastic, dtype: int64"
      ]
     },
     "execution_count": 5,
     "metadata": {},
     "output_type": "execute_result"
    }
   ],
   "source": [
    "input_data['is_sarcastic'].value_counts()"
   ]
  },
  {
   "cell_type": "code",
   "execution_count": 45,
   "metadata": {
    "scrolled": true
   },
   "outputs": [
    {
     "data": {
      "text/plain": [
       "<matplotlib.axes._subplots.AxesSubplot at 0x7ff7296b0b38>"
      ]
     },
     "execution_count": 45,
     "metadata": {},
     "output_type": "execute_result"
    },
    {
     "data": {
      "image/png": "[encoded data removed]",
      "text/plain": [
       "<Figure size 432x288 with 1 Axes>"
      ]
     },
     "metadata": {
      "needs_background": "light"
     },
     "output_type": "display_data"
    }
   ],
   "source": [
    "input_data['is_sarcastic'].hist(figsize = (6, 4))"
   ]
  },
  {
   "cell_type": "markdown",
   "metadata": {},
   "source": [
    "Firstly, data in .json format was read into pandas DataFrame. The most important features and statistics of the data set were examined. It turned out to be complete, so no imputation had to be performed. More importantly, it was confirmed that the ratio of sarcastic examples to non-sarcastic ones was not excessively low, which was an important observation concerning the choice of a model and hyperparameter tuning."
   ]
  },
  {
   "cell_type": "markdown",
   "metadata": {},
   "source": [
    "The next important step was vectorization of textual data. This NLP operation allows to represent a string as a vector of numbers, calculated in such a way to ensure that words close to eah other in meaning are also located close in the vector space. Two word embedding methods are popular among researchers in the field: Word2Vec and GloVe. The latter was chosen to be used in a processing stage of the project. Unlike Word2Vec, it does not utilize the local context window of the word, but is constructed using global word co-occurance matrix. As a result, it should be more general and help achieve better model performance. \n",
    "\n",
    "Pre-trained word vectors are available for download via GloVe [website](https://nlp.stanford.edu/projects/glove/). The set used in this project is a collection trained on Wikipedia and Gigaword entries and has a vocabulary size of 400 000. The dimensionality of each vector is 300, which is consistent with Kim's work. Function read_embeddings() takes a path to a file containing GloVe matrix and returns a dictionary, mapping each word to its vector (NumPy array)."
   ]
  },
  {
   "cell_type": "code",
   "execution_count": 7,
   "metadata": {},
   "outputs": [],
   "source": [
    "def read_embeddings(path_to_embeds):\n",
    "    \n",
    "    embeddings_dict = {}\n",
    "\n",
    "    with open(path_to_embeds, 'r') as glove_vectors:\n",
    "        for vector in glove_vectors:\n",
    "            values = vector.split()\n",
    "            word = values[0]\n",
    "            vect_in_dict = np.asarray(values[1:], dtype = np.float32)\n",
    "            embeddings_dict[word] = vect_in_dict\n",
    "    \n",
    "    return embeddings_dict"
   ]
  },
  {
   "cell_type": "code",
   "execution_count": 8,
   "metadata": {},
   "outputs": [
    {
     "name": "stdout",
     "output_type": "stream",
     "text": [
      "Num of words:  400000\n"
     ]
    }
   ],
   "source": [
    "embeddings_path = '/home/radoslawregula/Documents/GloVe/glove.6B.300d.txt'\n",
    "embeddings = read_embeddings(embeddings_path)\n",
    "\n",
    "print('Num of words: ', len(embeddings))"
   ]
  },
  {
   "cell_type": "code",
   "execution_count": 9,
   "metadata": {},
   "outputs": [
    {
     "name": "stdout",
     "output_type": "stream",
     "text": [
      "Max length of a headline:  39\n"
     ]
    }
   ],
   "source": [
    "input_data.loc[:,'len'] = input_data['headline'].apply(lambda x: len(str(x).split(' ')))\n",
    "print('Max length of a headline: ', input_data['len'].max())"
   ]
  },
  {
   "cell_type": "markdown",
   "metadata": {},
   "source": [
    "At that point, the input data had to be tokenized. Tokenization allows to represent a text as a sequence of integers, and by default group the same words tegether. This step prepares headline data to be transformed into *c x d* matrix for each entry, where c is a length of a headline and d is a dimensionality of word embedding. After tokenization, sequences of integers were zero-padded to ensure equal size of each matrix. "
   ]
  },
  {
   "cell_type": "code",
   "execution_count": 10,
   "metadata": {},
   "outputs": [],
   "source": [
    "from tensorflow.keras.preprocessing.text import Tokenizer\n",
    "from tensorflow.keras.preprocessing.sequence import pad_sequences\n",
    "\n",
    "max_features = 40000\n",
    "padded_max_len = 40\n",
    "\n",
    "tokenizer = Tokenizer(num_words = max_features, oov_token = 'unknown')\n",
    "tokenizer.fit_on_texts(input_data['headline'].values)\n",
    "\n",
    "X = tokenizer.texts_to_sequences(input_data['headline'].values)\n",
    "X = pad_sequences(X, padded_max_len, padding = 'post')\n",
    "\n",
    "y = input_data['is_sarcastic'].values"
   ]
  },
  {
   "cell_type": "markdown",
   "metadata": {},
   "source": [
    "Data was split into training and testing sets with 80/20 proportion."
   ]
  },
  {
   "cell_type": "code",
   "execution_count": 11,
   "metadata": {},
   "outputs": [],
   "source": [
    "from sklearn.model_selection import train_test_split\n",
    "\n",
    "X_train, X_test, y_train, y_test = train_test_split(X, y, test_size = 0.2, random_state = 42)"
   ]
  },
  {
   "cell_type": "markdown",
   "metadata": {},
   "source": [
    "As a last step of processing before constructing the model, embedding matrix was prepared. Embedding matrix is a structure connecting tokenized input sentences and a model GloVe dictionary. The function below looks for words from the headlines in *embeddings* dict, and adds their vectors to the final matrix. This operation returns a final link between textual data that was provided in the file and a neural network model operating on numerical inputs.\n",
    "\n",
    "An important feature is that if the function fails to connect a word to its representation in a Glove dictionary, it constructs a random vector. It prevents unrecognized entries from being grouped together into one vector (e.g. filled with zeros).\n",
    "\n",
    "A shape of 29658 x 300 suggests that the input data consisted of about 29658 separate words."
   ]
  },
  {
   "cell_type": "code",
   "execution_count": 12,
   "metadata": {},
   "outputs": [
    {
     "name": "stdout",
     "output_type": "stream",
     "text": [
      "(29658, 300)\n"
     ]
    }
   ],
   "source": [
    "embedding_dimensions = 300\n",
    "no_filters = 100\n",
    "\n",
    "num_words = min(max_features, len(tokenizer.word_index)) + 2\n",
    "\n",
    "embedding_matrix = np.zeros((num_words, embedding_dimensions))\n",
    "\n",
    "for word, index in tokenizer.word_index.items():\n",
    "    if index > max_features:\n",
    "        continue\n",
    "    embedding_vector = embeddings.get(word)\n",
    "    if embedding_vector is not None:\n",
    "        embedding_matrix[index] = embedding_vector\n",
    "    else:\n",
    "        embedding_matrix[index] = np.random.randn(embedding_dimensions)\n",
    "\n",
    "print(embedding_matrix.shape)"
   ]
  },
  {
   "cell_type": "markdown",
   "metadata": {},
   "source": [
    "At this point the data is prepared to be fed to a neural network. The model is initialized and built based on designs described in aforementioned scientific works. Schematic illustration of the algorithm is presented below (Source: Zhang's and Wallace's work):\\\n",
    "![cnn-fig](https://i.pinimg.com/564x/ea/f7/39/eaf739a2bf6abc104c3238db111207b5.jpg)\\\n",
    "Embedding layer turns indexes of integer into dense vectors. The white matrix on the image above is constructed from this vectors using Reshape class. The embedding layer is trainable - it is fine-tuned based on data and performance of a model. It is an example of 'non-static' version of CNN, a version which was proven to achieve better accuracy.\n",
    "\n",
    "Next layer is a convolution layer. It performs 2D convolution of an input matrix with ((3, 4, 5) x 300) filters. This layer uses ReLU activation function and is regularized with l<sub>2</sub> constraint of 3. This filtration operation produces a *feature map*. After that, pooling layer performs max pooling over each feature map. This step captures features the most important for modelling. Vectors obtained in the way described are then concatenated (to integrate features extracted by individual filters), flattened and used for classification by the means of a sigmoid function. The final prediction is 1 if the value of the function is above 0.5, and 0 otherwise. Reguralization of the model with dropout is also implemented, with a rate of 0.5, also used by Kim. "
   ]
  },
  {
   "cell_type": "code",
   "execution_count": 32,
   "metadata": {},
   "outputs": [],
   "source": [
    "from tensorflow.keras.models import Model\n",
    "from tensorflow.keras import layers\n",
    "from tensorflow.keras import Input\n",
    "from tensorflow.keras.initializers import Constant \n",
    "from tensorflow.keras import regularizers\n",
    "\n",
    "filter_sizes = (3, 4, 5)\n",
    "dropout_rate = 0.5\n",
    "\n",
    "inputs = Input(shape = (padded_max_len,), dtype = np.int32)\n",
    "\n",
    "embedding_layer = layers.Embedding(num_words, \n",
    "                                   embedding_dimensions, \n",
    "                                   embeddings_initializer = Constant(embedding_matrix),\n",
    "                                   input_length = padded_max_len, \n",
    "                                   trainable = True)(inputs)\n",
    "reshape = layers.Reshape((padded_max_len, embedding_dimensions, 1))(embedding_layer)\n",
    "\n",
    "convolutions = []\n",
    "\n",
    "for size in filter_sizes:\n",
    "    convolutions.append(layers.Conv2D(no_filters, \n",
    "                                      kernel_size = (size, embedding_dimensions),\n",
    "                                      padding = 'valid',\n",
    "                                      kernel_initializer = 'normal',\n",
    "                                      activation = 'relu', \n",
    "                                      kernel_regularizer = regularizers.l2(3))(reshape))\n",
    "    \n",
    "maxpools = []\n",
    "\n",
    "for size in filter_sizes:\n",
    "    maxpools.append(layers.MaxPool2D(pool_size = (padded_max_len - size + 1, 1), \n",
    "                                     strides = (1, 1), \n",
    "                                     padding = 'valid')(convolutions[size - 3]))\n",
    "\n",
    "concatenated_tensor = layers.Concatenate(axis = 1)(maxpools)\n",
    "flatten = layers.Flatten()(concatenated_tensor)\n",
    "\n",
    "dropout = layers.Dropout(dropout_rate)(flatten)\n",
    "output = layers.Dense(units = 1, activation = 'sigmoid')(dropout)\n"
   ]
  },
  {
   "cell_type": "code",
   "execution_count": 33,
   "metadata": {},
   "outputs": [
    {
     "name": "stdout",
     "output_type": "stream",
     "text": [
      "Model: \"model_8\"\n",
      "__________________________________________________________________________________________________\n",
      "Layer (type)                    Output Shape         Param #     Connected to                     \n",
      "==================================================================================================\n",
      "input_3 (InputLayer)            [(None, 40)]         0                                            \n",
      "__________________________________________________________________________________________________\n",
      "embedding_2 (Embedding)         (None, 40, 300)      8897400     input_3[0][0]                    \n",
      "__________________________________________________________________________________________________\n",
      "reshape_2 (Reshape)             (None, 40, 300, 1)   0           embedding_2[0][0]                \n",
      "__________________________________________________________________________________________________\n",
      "conv2d_6 (Conv2D)               (None, 38, 1, 100)   90100       reshape_2[0][0]                  \n",
      "__________________________________________________________________________________________________\n",
      "conv2d_7 (Conv2D)               (None, 37, 1, 100)   120100      reshape_2[0][0]                  \n",
      "__________________________________________________________________________________________________\n",
      "conv2d_8 (Conv2D)               (None, 36, 1, 100)   150100      reshape_2[0][0]                  \n",
      "__________________________________________________________________________________________________\n",
      "max_pooling2d_6 (MaxPooling2D)  (None, 1, 1, 100)    0           conv2d_6[0][0]                   \n",
      "__________________________________________________________________________________________________\n",
      "max_pooling2d_7 (MaxPooling2D)  (None, 1, 1, 100)    0           conv2d_7[0][0]                   \n",
      "__________________________________________________________________________________________________\n",
      "max_pooling2d_8 (MaxPooling2D)  (None, 1, 1, 100)    0           conv2d_8[0][0]                   \n",
      "__________________________________________________________________________________________________\n",
      "concatenate_2 (Concatenate)     (None, 3, 1, 100)    0           max_pooling2d_6[0][0]            \n",
      "                                                                 max_pooling2d_7[0][0]            \n",
      "                                                                 max_pooling2d_8[0][0]            \n",
      "__________________________________________________________________________________________________\n",
      "flatten_2 (Flatten)             (None, 300)          0           concatenate_2[0][0]              \n",
      "__________________________________________________________________________________________________\n",
      "dropout_2 (Dropout)             (None, 300)          0           flatten_2[0][0]                  \n",
      "__________________________________________________________________________________________________\n",
      "dense_2 (Dense)                 (None, 1)            301         dropout_2[0][0]                  \n",
      "==================================================================================================\n",
      "Total params: 9,258,001\n",
      "Trainable params: 9,258,001\n",
      "Non-trainable params: 0\n",
      "__________________________________________________________________________________________________\n",
      "None\n"
     ]
    }
   ],
   "source": [
    "model = Model(inputs = inputs, outputs = output)\n",
    "model.compile(loss = 'binary_crossentropy', optimizer = 'adam', metrics = ['accuracy'])\n",
    "\n",
    "print(model.summary())"
   ]
  },
  {
   "cell_type": "markdown",
   "metadata": {},
   "source": [
    "The model is compiled and fitted to the training set. "
   ]
  },
  {
   "cell_type": "code",
   "execution_count": 15,
   "metadata": {},
   "outputs": [
    {
     "name": "stdout",
     "output_type": "stream",
     "text": [
      "Train on 17093 samples, validate on 4274 samples\n",
      "Epoch 1/30\n",
      "17093/17093 [==============================] - 108s 6ms/sample - loss: 242.4705 - accuracy: 0.5590 - val_loss: 0.7638 - val_accuracy: 0.5538\n",
      "Epoch 2/30\n",
      "17093/17093 [==============================] - 110s 6ms/sample - loss: 0.7178 - accuracy: 0.5629 - val_loss: 0.7164 - val_accuracy: 0.5538\n",
      "Epoch 3/30\n",
      "17093/17093 [==============================] - 113s 7ms/sample - loss: 0.7180 - accuracy: 0.5629 - val_loss: 0.7180 - val_accuracy: 0.5538\n",
      "Epoch 4/30\n",
      "17093/17093 [==============================] - 114s 7ms/sample - loss: 0.7174 - accuracy: 0.5991 - val_loss: 0.7314 - val_accuracy: 0.7050\n",
      "Epoch 5/30\n",
      "17093/17093 [==============================] - 112s 7ms/sample - loss: 0.7217 - accuracy: 0.7323 - val_loss: 0.7286 - val_accuracy: 0.7693\n",
      "Epoch 6/30\n",
      "17093/17093 [==============================] - 117s 7ms/sample - loss: 0.7417 - accuracy: 0.7709 - val_loss: 0.7918 - val_accuracy: 0.7773\n",
      "Epoch 7/30\n",
      "17093/17093 [==============================] - 116s 7ms/sample - loss: 0.7535 - accuracy: 0.7999 - val_loss: 0.8364 - val_accuracy: 0.7850\n",
      "Epoch 8/30\n",
      "17093/17093 [==============================] - 115s 7ms/sample - loss: 0.7559 - accuracy: 0.8208 - val_loss: 0.8099 - val_accuracy: 0.7878\n",
      "Epoch 9/30\n",
      "17093/17093 [==============================] - 115s 7ms/sample - loss: 0.7570 - accuracy: 0.8437 - val_loss: 0.8800 - val_accuracy: 0.7871\n",
      "Epoch 10/30\n",
      "17093/17093 [==============================] - 116s 7ms/sample - loss: 0.7391 - accuracy: 0.8650 - val_loss: 0.8365 - val_accuracy: 0.7946\n",
      "Epoch 11/30\n",
      "17093/17093 [==============================] - 115s 7ms/sample - loss: 0.7335 - accuracy: 0.8780 - val_loss: 0.8211 - val_accuracy: 0.8011\n",
      "Epoch 12/30\n",
      "17093/17093 [==============================] - 115s 7ms/sample - loss: 0.7181 - accuracy: 0.8935 - val_loss: 0.9409 - val_accuracy: 0.7819\n",
      "Epoch 13/30\n",
      "17093/17093 [==============================] - 115s 7ms/sample - loss: 0.6991 - accuracy: 0.9042 - val_loss: 0.8798 - val_accuracy: 0.8056\n",
      "Epoch 14/30\n",
      "17093/17093 [==============================] - 115s 7ms/sample - loss: 0.6896 - accuracy: 0.9142 - val_loss: 0.9138 - val_accuracy: 0.8049\n",
      "Epoch 15/30\n",
      "17093/17093 [==============================] - 117s 7ms/sample - loss: 0.6707 - accuracy: 0.9206 - val_loss: 0.9449 - val_accuracy: 0.8030\n",
      "Epoch 16/30\n",
      "17093/17093 [==============================] - 115s 7ms/sample - loss: 0.6715 - accuracy: 0.9262 - val_loss: 0.9931 - val_accuracy: 0.8074\n",
      "Epoch 17/30\n",
      "17093/17093 [==============================] - 116s 7ms/sample - loss: 0.6365 - accuracy: 0.9353 - val_loss: 0.8925 - val_accuracy: 0.8072\n",
      "Epoch 18/30\n",
      "17093/17093 [==============================] - 116s 7ms/sample - loss: 0.6405 - accuracy: 0.9377 - val_loss: 0.9832 - val_accuracy: 0.8063\n",
      "Epoch 19/30\n",
      "17093/17093 [==============================] - 118s 7ms/sample - loss: 0.6137 - accuracy: 0.9434 - val_loss: 0.9338 - val_accuracy: 0.7990\n",
      "Epoch 20/30\n",
      "17093/17093 [==============================] - 116s 7ms/sample - loss: 0.6066 - accuracy: 0.9478 - val_loss: 0.9239 - val_accuracy: 0.8004\n",
      "Epoch 21/30\n",
      "17093/17093 [==============================] - 117s 7ms/sample - loss: 0.6117 - accuracy: 0.9473 - val_loss: 0.9811 - val_accuracy: 0.8060\n",
      "Epoch 22/30\n",
      "17093/17093 [==============================] - 115s 7ms/sample - loss: 0.5777 - accuracy: 0.9539 - val_loss: 0.9597 - val_accuracy: 0.8002\n",
      "Epoch 23/30\n",
      "17093/17093 [==============================] - 116s 7ms/sample - loss: 0.6083 - accuracy: 0.9520 - val_loss: 0.9984 - val_accuracy: 0.8023\n",
      "Epoch 24/30\n",
      "17093/17093 [==============================] - 115s 7ms/sample - loss: 0.5813 - accuracy: 0.9579 - val_loss: 0.9343 - val_accuracy: 0.8065\n",
      "Epoch 25/30\n",
      "17093/17093 [==============================] - 115s 7ms/sample - loss: 0.5415 - accuracy: 0.9609 - val_loss: 0.9465 - val_accuracy: 0.8049\n",
      "Epoch 26/30\n",
      "17093/17093 [==============================] - 116s 7ms/sample - loss: 0.5541 - accuracy: 0.9608 - val_loss: 0.8457 - val_accuracy: 0.7969\n",
      "Epoch 27/30\n",
      "17093/17093 [==============================] - 113s 7ms/sample - loss: 0.5480 - accuracy: 0.9634 - val_loss: 0.9964 - val_accuracy: 0.8105\n",
      "Epoch 28/30\n",
      "17093/17093 [==============================] - 119s 7ms/sample - loss: 0.5395 - accuracy: 0.9628 - val_loss: 1.0092 - val_accuracy: 0.7920\n",
      "Epoch 29/30\n",
      "17093/17093 [==============================] - 115s 7ms/sample - loss: 0.5486 - accuracy: 0.9658 - val_loss: 0.9014 - val_accuracy: 0.8018\n",
      "Epoch 30/30\n",
      "17093/17093 [==============================] - 116s 7ms/sample - loss: 0.4964 - accuracy: 0.9679 - val_loss: 0.9163 - val_accuracy: 0.8035\n"
     ]
    }
   ],
   "source": [
    "batch_size = 50\n",
    "history = model.fit(X_train, y_train, epochs = 30, batch_size = batch_size, verbose = 1, validation_split = 0.2)"
   ]
  },
  {
   "cell_type": "markdown",
   "metadata": {},
   "source": [
    "Accuracy metric of the trained model is impressive, peaking at almost 97%, but it is not difficult to notice that the cross-validation results suggest that the model is overfitted. This conclusion is easily deduced from the visualization - while training set's accuracy increases gradually, cross-validation's accuracy stays at roughly the same value."
   ]
  },
  {
   "cell_type": "code",
   "execution_count": 16,
   "metadata": {},
   "outputs": [
    {
     "data": {
      "image/png": "[encoded data removed]",
      "text/plain": [
       "<Figure size 576x432 with 1 Axes>"
      ]
     },
     "metadata": {
      "needs_background": "light"
     },
     "output_type": "display_data"
    }
   ],
   "source": [
    "import matplotlib.pyplot as plt\n",
    "%matplotlib inline\n",
    "\n",
    "plt.figure(figsize = (8, 6))\n",
    "plt.plot(history.history['accuracy'])\n",
    "plt.plot(history.history['val_accuracy'])\n",
    "plt.title('Model Accuracy')\n",
    "plt.xlabel('Epoch')\n",
    "plt.xlim([0, 30])\n",
    "plt.ylabel('Accuracy')\n",
    "plt.grid(True)\n",
    "plt.legend(['Train', 'Validation'], loc = 'upper left')\n",
    "plt.show()"
   ]
  },
  {
   "cell_type": "markdown",
   "metadata": {},
   "source": [
    "To prevent overfitting, the model was regularized with early stopping. The hyperparameters stayed the same, but the learning process was halted if the accuracy of validation set's predictions stayed at roughly the same level for 3 consecutive epochs. "
   ]
  },
  {
   "cell_type": "code",
   "execution_count": 34,
   "metadata": {},
   "outputs": [
    {
     "name": "stdout",
     "output_type": "stream",
     "text": [
      "Train on 17093 samples, validate on 4274 samples\n",
      "Epoch 1/30\n",
      "17093/17093 [==============================] - 110s 6ms/sample - loss: 241.9731 - accuracy: 0.5543 - val_loss: 0.7589 - val_accuracy: 0.5538\n",
      "Epoch 2/30\n",
      "17093/17093 [==============================] - 113s 7ms/sample - loss: 0.7165 - accuracy: 0.5629 - val_loss: 0.7193 - val_accuracy: 0.5538\n",
      "Epoch 3/30\n",
      "17093/17093 [==============================] - 113s 7ms/sample - loss: 0.7174 - accuracy: 0.5629 - val_loss: 0.7201 - val_accuracy: 0.5538\n",
      "Epoch 4/30\n",
      "17093/17093 [==============================] - 108s 6ms/sample - loss: 0.7147 - accuracy: 0.6038 - val_loss: 0.7219 - val_accuracy: 0.5774\n",
      "Epoch 5/30\n",
      "17093/17093 [==============================] - 105s 6ms/sample - loss: 0.7209 - accuracy: 0.7277 - val_loss: 0.7340 - val_accuracy: 0.7665\n",
      "Epoch 6/30\n",
      "17093/17093 [==============================] - 111s 6ms/sample - loss: 0.7387 - accuracy: 0.7664 - val_loss: 0.7604 - val_accuracy: 0.7620\n",
      "Epoch 7/30\n",
      "17093/17093 [==============================] - 116s 7ms/sample - loss: 0.7385 - accuracy: 0.7995 - val_loss: 0.7798 - val_accuracy: 0.7805\n",
      "Epoch 8/30\n",
      "17093/17093 [==============================] - 115s 7ms/sample - loss: 0.7412 - accuracy: 0.8210 - val_loss: 0.8564 - val_accuracy: 0.7815\n"
     ]
    }
   ],
   "source": [
    "from tensorflow.keras.callbacks import EarlyStopping\n",
    "\n",
    "model_stopped = Model(inputs = inputs, outputs = output)\n",
    "model_stopped.compile(loss = 'binary_crossentropy', optimizer = 'adam', metrics = ['accuracy'])\n",
    "\n",
    "batch_size = 50\n",
    "\n",
    "early_stop = EarlyStopping(monitor = 'val_accuracy',\n",
    "                           min_delta = 0.015,\n",
    "                           patience = 3)\n",
    "\n",
    "history_stopped = model_stopped.fit(X_train, \n",
    "                                    y_train, \n",
    "                                    epochs = 30,\n",
    "                                    callbacks = [early_stop],\n",
    "                                    batch_size = batch_size, \n",
    "                                    verbose = 1, \n",
    "                                    validation_split = 0.2)"
   ]
  },
  {
   "cell_type": "markdown",
   "metadata": {},
   "source": [
    "Early stopping worked well - the overall performance of the model is worse, but the generalization of incoming data is more suitable. "
   ]
  },
  {
   "cell_type": "code",
   "execution_count": 37,
   "metadata": {},
   "outputs": [
    {
     "data": {
      "image/png": "[encoded data removed]",
      "text/plain": [
       "<Figure size 576x432 with 1 Axes>"
      ]
     },
     "metadata": {
      "needs_background": "light"
     },
     "output_type": "display_data"
    }
   ],
   "source": [
    "plt.figure(figsize = (8, 6))\n",
    "plt.plot(model_stopped.history.history['accuracy'])\n",
    "plt.plot(model_stopped.history.history['val_accuracy'])\n",
    "plt.title('Model Accuracy')\n",
    "plt.xlabel('Epoch')\n",
    "plt.xlim([0, 7])\n",
    "plt.ylabel('Accuracy')\n",
    "plt.grid(True)\n",
    "plt.legend(['Train', 'Validation'], loc = 'upper left')\n",
    "plt.show()"
   ]
  },
  {
   "cell_type": "markdown",
   "metadata": {},
   "source": [
    "The models are saved for potential future use."
   ]
  },
  {
   "cell_type": "code",
   "execution_count": 40,
   "metadata": {},
   "outputs": [
    {
     "name": "stdout",
     "output_type": "stream",
     "text": [
      "INFO:tensorflow:Assets written to: overfitted_model.tf/assets\n",
      "INFO:tensorflow:Assets written to: final_model.tf/assets\n"
     ]
    }
   ],
   "source": [
    "from tensorflow.keras.models import load_model\n",
    "from tensorflow.python.util import deprecation\n",
    "\n",
    "deprecation._PRINT_DEPRECATION_WARNINGS = False\n",
    "model.save('overfitted_model.tf', save_format = 'tf')\n",
    "model_stopped.save('final_model.tf', save_format = 'tf')"
   ]
  },
  {
   "cell_type": "markdown",
   "metadata": {},
   "source": [
    "The assessment of the model is performed on the test set. Metrics chosen for this task are: accuracy, confusion matrix and area under ROC curve."
   ]
  },
  {
   "cell_type": "code",
   "execution_count": 41,
   "metadata": {},
   "outputs": [],
   "source": [
    "y_predictions_test = model_stopped.predict(X_test)"
   ]
  },
  {
   "cell_type": "code",
   "execution_count": 43,
   "metadata": {},
   "outputs": [
    {
     "name": "stdout",
     "output_type": "stream",
     "text": [
      "Accuracy score for the test set:  0.7929614376637963\n",
      "Confusion matrix for the test set: \n",
      " [[2395  601]\n",
      " [ 505 1841]]\n",
      "ROC AUC for the test set:  0.7920695909408055\n"
     ]
    }
   ],
   "source": [
    "from sklearn.metrics import accuracy_score, confusion_matrix, roc_auc_score\n",
    "\n",
    "acc_score = accuracy_score(y_test, list(map(lambda u: u > 0.5, y_predictions_test)))\n",
    "confusion_mx = confusion_matrix(y_test, list(map(lambda u: u > 0.5, y_predictions_test)))\n",
    "auc_score = roc_auc_score(y_test, list(map(lambda u: u > 0.5, y_predictions_test)))\n",
    "\n",
    "print('Accuracy score for the test set: ', acc_score)\n",
    "print('Confusion matrix for the test set: \\n', confusion_mx)\n",
    "print('ROC AUC for the test set: ', auc_score)"
   ]
  },
  {
   "cell_type": "markdown",
   "metadata": {},
   "source": [
    "# Summary of the project\n",
    "\n",
    "Convolutional neural network implemented for the classification of sarcastic news headlines performed well: achieving **accuracy of 82% for the training set and 79% for the test set**. Since the number of 0 classes and the number of 1 classes in the input set is comparable, this metric works well and is a precise representation of performance. For the test set, confusion matrix was calculated to further understand the logic of algorithm's classification. The number of false positives turned out to be greater than the number of false negatives. This seems to be a less 'dangerous' option. In general, this kind of task requires high recall in order to rather classify genuine sentences as sarcastic than sarcastic sentences as genuine (assuming our goal is to warn the end user about the possibility of ironic content).\n",
    "\n",
    "The area under receiver operating characteristic was also calculated and had a value of **over 0.79**. \n",
    "\n",
    "Of course, the model implemented in this notebook could be improved. The hyperparameters' values were based on exisiting research. Instead, there is a possibility of performing a grid search to create a custom set of parameters, fitted specially to the task. The CNN method itself could turn out to not be the most effective model for this task (it is rather unlikely, though). That can be verified by first implementing a few different neural network architectures and conventional ML algorithms and assess the results accordingly. Overfitting can also be decreased by stronger regularization, e.g. increasing the dropout rate. If that method turns out to help validation accuracy grow together with training set's accuracy further, that one should be used in the project. More possible ways to ensure better results are described exhaustively in Zhang's and Wallace's paper."
   ]
  }
 ],
 "metadata": {
  "kernelspec": {
   "display_name": "Python 3",
   "language": "python",
   "name": "python3"
  },
  "language_info": {
   "codemirror_mode": {
    "name": "ipython",
    "version": 3
   },
   "file_extension": ".py",
   "mimetype": "text/x-python",
   "name": "python",
   "nbconvert_exporter": "python",
   "pygments_lexer": "ipython3",
   "version": "3.6.9"
  }
 },
 "nbformat": 4,
 "nbformat_minor": 4
}
